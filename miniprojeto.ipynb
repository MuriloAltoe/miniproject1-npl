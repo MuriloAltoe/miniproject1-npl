{
 "cells": [
  {
   "cell_type": "code",
   "execution_count": 28,
   "metadata": {},
   "outputs": [],
   "source": [
    "from tkinter import *\n",
    "from tkinter import ttk\n",
    "from tkinter import messagebox"
   ]
  },
  {
   "cell_type": "code",
   "execution_count": 3,
   "metadata": {},
   "outputs": [
    {
     "name": "stderr",
     "output_type": "stream",
     "text": [
      "[nltk_data] Downloading package punkt to\n",
      "[nltk_data]     C:\\Users\\muril\\AppData\\Roaming\\nltk_data...\n",
      "[nltk_data]   Package punkt is already up-to-date!\n"
     ]
    },
    {
     "data": {
      "text/plain": [
       "True"
      ]
     },
     "execution_count": 3,
     "metadata": {},
     "output_type": "execute_result"
    }
   ],
   "source": [
    "import nltk\n",
    "nltk.download('punkt')"
   ]
  },
  {
   "cell_type": "code",
   "execution_count": 4,
   "metadata": {},
   "outputs": [],
   "source": [
    "from goose3 import Goose\n",
    "\n",
    "g=Goose()\n",
    "url='https://en.wikipedia.org/wiki/Natural_language_processing'\n",
    "article=g.extract(url)"
   ]
  },
  {
   "cell_type": "code",
   "execution_count": 39,
   "metadata": {},
   "outputs": [],
   "source": [
    "import tkinter as tk\n",
    "from tkinter import messagebox\n",
    "\n",
    "# def seguir_texto():\n",
    "\n",
    "# def seguir_link():\n",
    "\n",
    "def sair():\n",
    "    root.destroy()\n",
    "\n",
    "def selecionar_idioma(idioma):\n",
    "    idioma_label.config(text=f\"Idioma selecionado: {idioma}\")\n",
    "\n",
    "# Criar a janela principal\n",
    "root = tk.Tk()\n",
    "root.title(\"Interface Tkinter\")\n",
    "\n",
    "# Linha 1: Botões para seleção de idioma e label do idioma selecionado\n",
    "linha1 = tk.Frame(root)\n",
    "linha1.pack(pady=10, padx=10, fill=tk.X)\n",
    "\n",
    "btn_ingles = tk.Button(linha1, text=\"Inglês\", command=lambda: selecionar_idioma(\"Inglês\"))\n",
    "btn_ingles.pack(side=tk.LEFT, padx=10, fill=tk.X, expand=True)\n",
    "\n",
    "btn_portugues = tk.Button(linha1, text=\"Português\", command=lambda: selecionar_idioma(\"Português\"))\n",
    "btn_portugues.pack(side=tk.LEFT, padx=10, fill=tk.X, expand=True)\n",
    "\n",
    "idioma_label = tk.Label(linha1, text=\"Idioma selecionado: Nenhum\")\n",
    "idioma_label.pack(side=tk.LEFT, padx=10, fill=tk.X, expand=True)\n",
    "\n",
    "# Linha 2: Label e área de entrada de texto e botão \"Seguir\"\n",
    "linha2 = tk.Frame(root)\n",
    "linha2.pack(pady=10, padx=10, fill=tk.X)\n",
    "\n",
    "label_texto = tk.Label(linha2, text=\"Texto:\")\n",
    "label_texto.pack(side=tk.LEFT, padx=10)\n",
    "\n",
    "entrada_texto = tk.Text(linha2, height=4, width=40)\n",
    "entrada_texto.pack(side=tk.LEFT, padx=10, fill=tk.X, expand=True)\n",
    "\n",
    "btn_seguir_texto = tk.Button(linha2, text=\"Seguir\", command=seguir_texto)\n",
    "btn_seguir_texto.pack(side=tk.RIGHT, padx=10)\n",
    "\n",
    "# Linha 3: Label, entrada de link e botão \"Seguir\"\n",
    "linha3 = tk.Frame(root)\n",
    "linha3.pack(pady=10, padx=10, fill=tk.X)\n",
    "\n",
    "label_link = tk.Label(linha3, text=\"Link:\")\n",
    "label_link.pack(side=tk.LEFT, padx=10)\n",
    "\n",
    "entrada_link = tk.Entry(linha3, width=40)\n",
    "entrada_link.pack(side=tk.LEFT, padx=10, fill=tk.X, expand=True)\n",
    "\n",
    "btn_seguir_link = tk.Button(linha3, text=\"Seguir\", command=seguir_link)\n",
    "btn_seguir_link.pack(side=tk.RIGHT, padx=10)\n",
    "\n",
    "# Linha 4: Botões adicionais e botão \"Sair\"\n",
    "linha4 = tk.Frame(root)\n",
    "linha4.pack(pady=10, padx=10, fill=tk.X)\n",
    "\n",
    "btn_adicional1 = tk.Button(linha4, text=\"Botão 1\")\n",
    "btn_adicional1.pack(side=tk.LEFT, padx=10, fill=tk.X, expand=True)\n",
    "\n",
    "btn_adicional2 = tk.Button(linha4, text=\"Botão 2\")\n",
    "btn_adicional2.pack(side=tk.LEFT, padx=10, fill=tk.X, expand=True)\n",
    "\n",
    "btn_sair = tk.Button(linha4, text=\"Sair\", command=sair)\n",
    "btn_sair.pack(side=tk.RIGHT, padx=10)\n",
    "\n",
    "# Executar o loop principal da interface\n",
    "root.mainloop()\n"
   ]
  }
 ],
 "metadata": {
  "kernelspec": {
   "display_name": "v3nv",
   "language": "python",
   "name": "python3"
  },
  "language_info": {
   "codemirror_mode": {
    "name": "ipython",
    "version": 3
   },
   "file_extension": ".py",
   "mimetype": "text/x-python",
   "name": "python",
   "nbconvert_exporter": "python",
   "pygments_lexer": "ipython3",
   "version": "3.11.9"
  }
 },
 "nbformat": 4,
 "nbformat_minor": 2
}
